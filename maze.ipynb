import random
maze = [
    "#####",
    "#S  #",
    "# # #",
    "#   #",
    "### #",
    "#   #",
    "# # #",
    "#E  #",
    "#####"
]

#maze
def print_maze(player_pos):
    for i in range(len(maze)):
        for j in range(len(maze[i])):
            if (i, j) == player_pos:
                print("P", end="")  # Player position
            else:
                print(maze[i][j], end="")
        print()

#won?
def is_winner(player_pos):
    return maze[player_pos[0]][player_pos[1]] == "E"

#valid?
def is_valid_move(player_pos, move):
    new_pos = tuple(map(sum, zip(player_pos, move)))
    return maze[new_pos[0]][new_pos[1]] != "#"

#run the game
def main():
    player_pos = (1, 1)  # Starting position
    moves = {
        "W": (-1, 0), # Up
        "S": (1, 0),# Down
        "A": (0, -1),# Left
        "D": (0, 1)# Right
    }

    while True:
        print_maze(player_pos)

        if is_winner(player_pos):
            print("Congratulations! You Won!")
            break

        move = input("Enter your move (W/A/S/D): ").upper()

        if move in moves:
            new_pos = tuple(map(sum, zip(player_pos, moves[move])))
            if is_valid_move(player_pos, moves[move]):
                player_pos = new_pos
            else:
                print("Invalid move! Try again.")
        else:
            print("Invalid input! Please enter W, A, S, or D.")

if __name__ == "__main__":
    main()
